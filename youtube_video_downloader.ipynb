{
 "cells": [
  {
   "cell_type": "code",
   "execution_count": 1,
   "metadata": {},
   "outputs": [
    {
     "name": "stdout",
     "output_type": "stream",
     "text": [
      "Collecting youtube_dl\n",
      "  Downloading https://files.pythonhosted.org/packages/70/b4/c83b577bfb1be7c88dff10eecd70650eca7729b25135345108ea676e6f3b/youtube_dl-2020.9.20-py2.py3-none-any.whl (1.8MB)\n",
      "Installing collected packages: youtube-dl\n",
      "Successfully installed youtube-dl-2020.9.20\n"
     ]
    },
    {
     "name": "stderr",
     "output_type": "stream",
     "text": [
      "twisted 18.7.0 requires PyHamcrest>=1.9.0, which is not installed.\n",
      "mysql-connector-python 8.0.21 requires protobuf>=3.0.0, which is not installed.\n",
      "You are using pip version 10.0.1, however version 20.2.3 is available.\n",
      "You should consider upgrading via the 'python -m pip install --upgrade pip' command.\n"
     ]
    }
   ],
   "source": [
    "pip install youtube_dl"
   ]
  },
  {
   "cell_type": "code",
   "execution_count": 6,
   "metadata": {},
   "outputs": [
    {
     "name": "stdout",
     "output_type": "stream",
     "text": [
      "Copy & paste the URL of the YouTube video you want to download:- https://www.youtube.com/watch?v=TWfzLpR3Q_E\n",
      "[youtube] TWfzLpR3Q_E: Downloading webpage\n",
      "[youtube] TWfzLpR3Q_E: Downloading js player 12237e3d\n",
      "[youtube] TWfzLpR3Q_E: Downloading js player 12237e3d\n",
      "[download] Destination: Jaane De - Full Video _ Atif Aslam _ Qarib Qarib Singlle _ Irrfan I Parvathy _ Vishal Mishra-TWfzLpR3Q_E.mp4\n",
      "[download] 100% of 18.76MiB in 03:39                  \n",
      "Enter 1 if you want to download more videos \n",
      "Enter 0 if you are done 0\n"
     ]
    }
   ],
   "source": [
    "# importing module \n",
    "import youtube_dl \n",
    "\n",
    "ydl_opts = {} \n",
    "\n",
    "def dwl_vid(): \n",
    "    with youtube_dl.YoutubeDL(ydl_opts) as ydl: \n",
    "        ydl.download([zxt]) \n",
    "\n",
    "channel = 1\n",
    "while (channel == int(1)): \n",
    "    link_of_the_video = input(\"Copy & paste the URL of the YouTube video you want to download:- \") \n",
    "    zxt = link_of_the_video.strip() \n",
    "\n",
    "    dwl_vid() \n",
    "    channel = int(input(\"Enter 1 if you want to download more videos \\nEnter 0 if you are done \")) \n"
   ]
  },
  {
   "cell_type": "code",
   "execution_count": null,
   "metadata": {},
   "outputs": [],
   "source": []
  }
 ],
 "metadata": {
  "kernelspec": {
   "display_name": "Python 3",
   "language": "python",
   "name": "python3"
  },
  "language_info": {
   "codemirror_mode": {
    "name": "ipython",
    "version": 3
   },
   "file_extension": ".py",
   "mimetype": "text/x-python",
   "name": "python",
   "nbconvert_exporter": "python",
   "pygments_lexer": "ipython3",
   "version": "3.7.0"
  }
 },
 "nbformat": 4,
 "nbformat_minor": 2
}
